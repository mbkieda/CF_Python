{
 "cells": [
  {
   "cell_type": "markdown",
   "id": "763b31cc",
   "metadata": {},
   "source": [
    "## A4e10 Key Question Visualizations"
   ]
  },
  {
   "cell_type": "markdown",
   "id": "c4b32fa5",
   "metadata": {},
   "source": [
    "## Contents\n",
    "- [Setup workspace](#sec1)\n",
    "- [Import ibraries](#sec101)\n",
    "- [Load data](#sec102)\n",
    "- [Visualizations](#sec2)\n",
    "- [Bar chart for Key Question 1](#sec201)\n",
    "- [Histogram for key question 1](#sec202)\n",
    "- [Bar chart for Key Question 4](#sec203)\n",
    "- [Line chart for key question 2](#sec204)\n",
    "- [Pie chart for key question 5.1](#sec205)\n",
    "- [Pie charts for key question 5.2](#sec206)\n",
    "- [Bar chart for key question 5.3](#sec207)\n",
    "- [Bar charts for key question 5.4](#sec208)"
   ]
  },
  {
   "cell_type": "markdown",
   "id": "d2b96eee",
   "metadata": {},
   "source": [
    "<a id=\"sec1\"></a>\n",
    "## 1 Setup workspace"
   ]
  },
  {
   "cell_type": "markdown",
   "id": "f1c1aad0",
   "metadata": {},
   "source": [
    "<a id=\"sec101\"></a>\n",
    "### 1.01 Import libraries"
   ]
  },
  {
   "cell_type": "code",
   "execution_count": 1,
   "id": "94b4ef10",
   "metadata": {},
   "outputs": [],
   "source": [
    "# Import libraries\n",
    "import pandas as pd\n",
    "import numpy as np\n",
    "import os\n",
    "import matplotlib.pyplot as plt\n",
    "import seaborn as sns\n",
    "import scipy"
   ]
  },
  {
   "cell_type": "code",
   "execution_count": 2,
   "id": "088a3dd1",
   "metadata": {},
   "outputs": [],
   "source": [
    "# define path var\n",
    "path = r'C:\\Users\\mbkie\\Documents\\CF data analytics\\Immersion\\Instacart'"
   ]
  },
  {
   "cell_type": "markdown",
   "id": "2cf9fa28",
   "metadata": {},
   "source": [
    "<a id=\"sec102\"></a>\n",
    "### 1.02 Load data"
   ]
  },
  {
   "cell_type": "code",
   "execution_count": 3,
   "id": "bee3efc1",
   "metadata": {},
   "outputs": [],
   "source": [
    "# load final data set\n",
    "df = pd.read_pickle(os.path.join(path, 'data','prepped', 'final_data_set_ex10.pkl'))"
   ]
  },
  {
   "cell_type": "code",
   "execution_count": 4,
   "id": "6dc1c41b",
   "metadata": {},
   "outputs": [],
   "source": [
    "# this dataset has many columns, so set option to show all columns\n",
    "pd.set_option('display.max_columns', None)"
   ]
  },
  {
   "cell_type": "code",
   "execution_count": 5,
   "id": "780d7964",
   "metadata": {},
   "outputs": [
    {
     "data": {
      "text/html": [
       "<div>\n",
       "<style scoped>\n",
       "    .dataframe tbody tr th:only-of-type {\n",
       "        vertical-align: middle;\n",
       "    }\n",
       "\n",
       "    .dataframe tbody tr th {\n",
       "        vertical-align: top;\n",
       "    }\n",
       "\n",
       "    .dataframe thead th {\n",
       "        text-align: right;\n",
       "    }\n",
       "</style>\n",
       "<table border=\"1\" class=\"dataframe\">\n",
       "  <thead>\n",
       "    <tr style=\"text-align: right;\">\n",
       "      <th></th>\n",
       "      <th>order_id</th>\n",
       "      <th>user_id</th>\n",
       "      <th>order_number</th>\n",
       "      <th>orders_day_of_week</th>\n",
       "      <th>order_hour_of_day</th>\n",
       "      <th>days_since_prior_order</th>\n",
       "      <th>product_id</th>\n",
       "      <th>add_to_cart_order</th>\n",
       "      <th>reordered</th>\n",
       "      <th>product_name</th>\n",
       "      <th>aisle_id</th>\n",
       "      <th>department_id</th>\n",
       "      <th>prices</th>\n",
       "      <th>price_range</th>\n",
       "      <th>busiest_day</th>\n",
       "      <th>busiest_days</th>\n",
       "      <th>busiest_period_of_day</th>\n",
       "      <th>max_order</th>\n",
       "      <th>loyalty_flag</th>\n",
       "      <th>avg_spend</th>\n",
       "      <th>spending_flag</th>\n",
       "      <th>avg_days_btw_orders</th>\n",
       "      <th>order_frq_flag</th>\n",
       "      <th>first_name</th>\n",
       "      <th>last_name</th>\n",
       "      <th>gender</th>\n",
       "      <th>state</th>\n",
       "      <th>age</th>\n",
       "      <th>date_joined</th>\n",
       "      <th>num_dependents</th>\n",
       "      <th>fam_status</th>\n",
       "      <th>income</th>\n",
       "      <th>region</th>\n",
       "      <th>profile</th>\n",
       "      <th>department</th>\n",
       "      <th>income_flag</th>\n",
       "      <th>age_flag</th>\n",
       "    </tr>\n",
       "  </thead>\n",
       "  <tbody>\n",
       "    <tr>\n",
       "      <th>0</th>\n",
       "      <td>2539329</td>\n",
       "      <td>1</td>\n",
       "      <td>1</td>\n",
       "      <td>Monday</td>\n",
       "      <td>8</td>\n",
       "      <td>0.0</td>\n",
       "      <td>196</td>\n",
       "      <td>1</td>\n",
       "      <td>0</td>\n",
       "      <td>Soda</td>\n",
       "      <td>77.0</td>\n",
       "      <td>7.0</td>\n",
       "      <td>9.0</td>\n",
       "      <td>Mid-range product</td>\n",
       "      <td>Regularly busy</td>\n",
       "      <td>Moderately busy</td>\n",
       "      <td>Average orders</td>\n",
       "      <td>10</td>\n",
       "      <td>New customer</td>\n",
       "      <td>6.367797</td>\n",
       "      <td>Low spender</td>\n",
       "      <td>18.542373</td>\n",
       "      <td>Regular customer</td>\n",
       "      <td>Linda</td>\n",
       "      <td>Nguyen</td>\n",
       "      <td>Female</td>\n",
       "      <td>Alabama</td>\n",
       "      <td>31</td>\n",
       "      <td>2/17/2019</td>\n",
       "      <td>3</td>\n",
       "      <td>married</td>\n",
       "      <td>40423</td>\n",
       "      <td>South</td>\n",
       "      <td>young adult with children, mid to high income</td>\n",
       "      <td>beverages</td>\n",
       "      <td>high</td>\n",
       "      <td>young</td>\n",
       "    </tr>\n",
       "    <tr>\n",
       "      <th>1</th>\n",
       "      <td>2539329</td>\n",
       "      <td>1</td>\n",
       "      <td>1</td>\n",
       "      <td>Monday</td>\n",
       "      <td>8</td>\n",
       "      <td>0.0</td>\n",
       "      <td>14084</td>\n",
       "      <td>2</td>\n",
       "      <td>0</td>\n",
       "      <td>Organic Unsweetened Vanilla Almond Milk</td>\n",
       "      <td>91.0</td>\n",
       "      <td>16.0</td>\n",
       "      <td>12.5</td>\n",
       "      <td>Mid-range product</td>\n",
       "      <td>Regularly busy</td>\n",
       "      <td>Moderately busy</td>\n",
       "      <td>Average orders</td>\n",
       "      <td>10</td>\n",
       "      <td>New customer</td>\n",
       "      <td>6.367797</td>\n",
       "      <td>Low spender</td>\n",
       "      <td>18.542373</td>\n",
       "      <td>Regular customer</td>\n",
       "      <td>Linda</td>\n",
       "      <td>Nguyen</td>\n",
       "      <td>Female</td>\n",
       "      <td>Alabama</td>\n",
       "      <td>31</td>\n",
       "      <td>2/17/2019</td>\n",
       "      <td>3</td>\n",
       "      <td>married</td>\n",
       "      <td>40423</td>\n",
       "      <td>South</td>\n",
       "      <td>young adult with children, mid to high income</td>\n",
       "      <td>dairy eggs</td>\n",
       "      <td>high</td>\n",
       "      <td>young</td>\n",
       "    </tr>\n",
       "    <tr>\n",
       "      <th>2</th>\n",
       "      <td>2539329</td>\n",
       "      <td>1</td>\n",
       "      <td>1</td>\n",
       "      <td>Monday</td>\n",
       "      <td>8</td>\n",
       "      <td>0.0</td>\n",
       "      <td>12427</td>\n",
       "      <td>3</td>\n",
       "      <td>0</td>\n",
       "      <td>Original Beef Jerky</td>\n",
       "      <td>23.0</td>\n",
       "      <td>19.0</td>\n",
       "      <td>4.4</td>\n",
       "      <td>Low-range product</td>\n",
       "      <td>Regularly busy</td>\n",
       "      <td>Moderately busy</td>\n",
       "      <td>Average orders</td>\n",
       "      <td>10</td>\n",
       "      <td>New customer</td>\n",
       "      <td>6.367797</td>\n",
       "      <td>Low spender</td>\n",
       "      <td>18.542373</td>\n",
       "      <td>Regular customer</td>\n",
       "      <td>Linda</td>\n",
       "      <td>Nguyen</td>\n",
       "      <td>Female</td>\n",
       "      <td>Alabama</td>\n",
       "      <td>31</td>\n",
       "      <td>2/17/2019</td>\n",
       "      <td>3</td>\n",
       "      <td>married</td>\n",
       "      <td>40423</td>\n",
       "      <td>South</td>\n",
       "      <td>young adult with children, mid to high income</td>\n",
       "      <td>snacks</td>\n",
       "      <td>high</td>\n",
       "      <td>young</td>\n",
       "    </tr>\n",
       "    <tr>\n",
       "      <th>3</th>\n",
       "      <td>2539329</td>\n",
       "      <td>1</td>\n",
       "      <td>1</td>\n",
       "      <td>Monday</td>\n",
       "      <td>8</td>\n",
       "      <td>0.0</td>\n",
       "      <td>26088</td>\n",
       "      <td>4</td>\n",
       "      <td>0</td>\n",
       "      <td>Aged White Cheddar Popcorn</td>\n",
       "      <td>23.0</td>\n",
       "      <td>19.0</td>\n",
       "      <td>4.7</td>\n",
       "      <td>Low-range product</td>\n",
       "      <td>Regularly busy</td>\n",
       "      <td>Moderately busy</td>\n",
       "      <td>Average orders</td>\n",
       "      <td>10</td>\n",
       "      <td>New customer</td>\n",
       "      <td>6.367797</td>\n",
       "      <td>Low spender</td>\n",
       "      <td>18.542373</td>\n",
       "      <td>Regular customer</td>\n",
       "      <td>Linda</td>\n",
       "      <td>Nguyen</td>\n",
       "      <td>Female</td>\n",
       "      <td>Alabama</td>\n",
       "      <td>31</td>\n",
       "      <td>2/17/2019</td>\n",
       "      <td>3</td>\n",
       "      <td>married</td>\n",
       "      <td>40423</td>\n",
       "      <td>South</td>\n",
       "      <td>young adult with children, mid to high income</td>\n",
       "      <td>snacks</td>\n",
       "      <td>high</td>\n",
       "      <td>young</td>\n",
       "    </tr>\n",
       "    <tr>\n",
       "      <th>4</th>\n",
       "      <td>2539329</td>\n",
       "      <td>1</td>\n",
       "      <td>1</td>\n",
       "      <td>Monday</td>\n",
       "      <td>8</td>\n",
       "      <td>0.0</td>\n",
       "      <td>26405</td>\n",
       "      <td>5</td>\n",
       "      <td>0</td>\n",
       "      <td>XL Pick-A-Size Paper Towel Rolls</td>\n",
       "      <td>54.0</td>\n",
       "      <td>17.0</td>\n",
       "      <td>1.0</td>\n",
       "      <td>Low-range product</td>\n",
       "      <td>Regularly busy</td>\n",
       "      <td>Moderately busy</td>\n",
       "      <td>Average orders</td>\n",
       "      <td>10</td>\n",
       "      <td>New customer</td>\n",
       "      <td>6.367797</td>\n",
       "      <td>Low spender</td>\n",
       "      <td>18.542373</td>\n",
       "      <td>Regular customer</td>\n",
       "      <td>Linda</td>\n",
       "      <td>Nguyen</td>\n",
       "      <td>Female</td>\n",
       "      <td>Alabama</td>\n",
       "      <td>31</td>\n",
       "      <td>2/17/2019</td>\n",
       "      <td>3</td>\n",
       "      <td>married</td>\n",
       "      <td>40423</td>\n",
       "      <td>South</td>\n",
       "      <td>young adult with children, mid to high income</td>\n",
       "      <td>household</td>\n",
       "      <td>high</td>\n",
       "      <td>young</td>\n",
       "    </tr>\n",
       "  </tbody>\n",
       "</table>\n",
       "</div>"
      ],
      "text/plain": [
       "   order_id  user_id  order_number orders_day_of_week  order_hour_of_day  \\\n",
       "0   2539329        1             1             Monday                  8   \n",
       "1   2539329        1             1             Monday                  8   \n",
       "2   2539329        1             1             Monday                  8   \n",
       "3   2539329        1             1             Monday                  8   \n",
       "4   2539329        1             1             Monday                  8   \n",
       "\n",
       "   days_since_prior_order  product_id  add_to_cart_order  reordered  \\\n",
       "0                     0.0         196                  1          0   \n",
       "1                     0.0       14084                  2          0   \n",
       "2                     0.0       12427                  3          0   \n",
       "3                     0.0       26088                  4          0   \n",
       "4                     0.0       26405                  5          0   \n",
       "\n",
       "                              product_name  aisle_id  department_id  prices  \\\n",
       "0                                     Soda      77.0            7.0     9.0   \n",
       "1  Organic Unsweetened Vanilla Almond Milk      91.0           16.0    12.5   \n",
       "2                      Original Beef Jerky      23.0           19.0     4.4   \n",
       "3               Aged White Cheddar Popcorn      23.0           19.0     4.7   \n",
       "4         XL Pick-A-Size Paper Towel Rolls      54.0           17.0     1.0   \n",
       "\n",
       "         price_range     busiest_day     busiest_days busiest_period_of_day  \\\n",
       "0  Mid-range product  Regularly busy  Moderately busy        Average orders   \n",
       "1  Mid-range product  Regularly busy  Moderately busy        Average orders   \n",
       "2  Low-range product  Regularly busy  Moderately busy        Average orders   \n",
       "3  Low-range product  Regularly busy  Moderately busy        Average orders   \n",
       "4  Low-range product  Regularly busy  Moderately busy        Average orders   \n",
       "\n",
       "   max_order  loyalty_flag  avg_spend spending_flag  avg_days_btw_orders  \\\n",
       "0         10  New customer   6.367797   Low spender            18.542373   \n",
       "1         10  New customer   6.367797   Low spender            18.542373   \n",
       "2         10  New customer   6.367797   Low spender            18.542373   \n",
       "3         10  New customer   6.367797   Low spender            18.542373   \n",
       "4         10  New customer   6.367797   Low spender            18.542373   \n",
       "\n",
       "     order_frq_flag first_name last_name  gender    state  age date_joined  \\\n",
       "0  Regular customer      Linda    Nguyen  Female  Alabama   31   2/17/2019   \n",
       "1  Regular customer      Linda    Nguyen  Female  Alabama   31   2/17/2019   \n",
       "2  Regular customer      Linda    Nguyen  Female  Alabama   31   2/17/2019   \n",
       "3  Regular customer      Linda    Nguyen  Female  Alabama   31   2/17/2019   \n",
       "4  Regular customer      Linda    Nguyen  Female  Alabama   31   2/17/2019   \n",
       "\n",
       "   num_dependents fam_status  income region  \\\n",
       "0               3    married   40423  South   \n",
       "1               3    married   40423  South   \n",
       "2               3    married   40423  South   \n",
       "3               3    married   40423  South   \n",
       "4               3    married   40423  South   \n",
       "\n",
       "                                         profile  department income_flag  \\\n",
       "0  young adult with children, mid to high income   beverages        high   \n",
       "1  young adult with children, mid to high income  dairy eggs        high   \n",
       "2  young adult with children, mid to high income      snacks        high   \n",
       "3  young adult with children, mid to high income      snacks        high   \n",
       "4  young adult with children, mid to high income   household        high   \n",
       "\n",
       "  age_flag  \n",
       "0    young  \n",
       "1    young  \n",
       "2    young  \n",
       "3    young  \n",
       "4    young  "
      ]
     },
     "execution_count": 5,
     "metadata": {},
     "output_type": "execute_result"
    }
   ],
   "source": [
    "# output the first few rows to refer to while creatint visuals\n",
    "df.head()"
   ]
  },
  {
   "cell_type": "markdown",
   "id": "34037c70",
   "metadata": {},
   "source": [
    "<a id=\"sec2\"></a>\n",
    "## 2.  Visualizations"
   ]
  },
  {
   "cell_type": "markdown",
   "id": "dd652af3",
   "metadata": {},
   "source": [
    "### Create visualizations needed to answer key questions.  Note that chart is reused throughout to temporarily store the numerous charts until they are saved to a file."
   ]
  },
  {
   "cell_type": "markdown",
   "id": "95e2f91b",
   "metadata": {},
   "source": [
    "<a id=\"sec201\"></a>\n",
    "### 2.01  Bar chart for Key Question 1"
   ]
  },
  {
   "cell_type": "code",
   "execution_count": 6,
   "id": "5234b542",
   "metadata": {},
   "outputs": [
    {
     "data": {
      "text/plain": [
       "<Figure size 288x288 with 0 Axes>"
      ]
     },
     "execution_count": 6,
     "metadata": {},
     "output_type": "execute_result"
    },
    {
     "data": {
      "image/png": "[encoded data removed]",
      "text/plain": [
       "<Figure size 432x288 with 1 Axes>"
      ]
     },
     "metadata": {
      "needs_background": "light"
     },
     "output_type": "display_data"
    },
    {
     "data": {
      "text/plain": [
       "<Figure size 288x288 with 0 Axes>"
      ]
     },
     "metadata": {},
     "output_type": "display_data"
    }
   ],
   "source": [
    "# create bar chart for orders_day_of_week\n",
    "chart = df['orders_day_of_week'].value_counts().plot.bar\\\n",
    "(color = ['blue'], xlabel = 'Day of Week', ylabel = 'Orders (in millions)', title = 'Orders by Day of Week')\n",
    "plt.xticks(rotation= 45, horizontalalignment=\"right\")\n",
    "plt.figure(figsize=(4,4))"
   ]
  },
  {
   "cell_type": "code",
   "execution_count": 7,
   "id": "7d10bd36",
   "metadata": {},
   "outputs": [],
   "source": [
    "# save bar chart, answers part of Key Question 1\n",
    "chart.figure.savefig(os.path.join(path, 'visualizations', 'KQ1_orders_dow.png'))"
   ]
  },
  {
   "cell_type": "markdown",
   "id": "c46a0c8c",
   "metadata": {},
   "source": [
    "<a id=\"sec202\"></a>\n",
    "### 2.02  Histogram for key question 1"
   ]
  },
  {
   "cell_type": "code",
   "execution_count": 8,
   "id": "8a0c9035",
   "metadata": {
    "scrolled": true
   },
   "outputs": [
    {
     "data": {
      "image/png": "[encoded data removed]",
      "text/plain": [
       "<Figure size 432x288 with 1 Axes>"
      ]
     },
     "metadata": {
      "needs_background": "light"
     },
     "output_type": "display_data"
    }
   ],
   "source": [
    "# Creating histogram - answers part of Key Question 1\n",
    "chart, ax = plt.subplots()\n",
    "ax.hist(df['order_hour_of_day'], color= 'blue', bins = 24)\n",
    "ax.set_xlabel('Hour of Day')\n",
    "ax.set_ylabel('Orders (in millions)')\n",
    "ax.set_title('Orders by Hour of Day')\n",
    "# Show plot\n",
    "plt.show()"
   ]
  },
  {
   "cell_type": "code",
   "execution_count": 9,
   "id": "0f1dd259",
   "metadata": {},
   "outputs": [],
   "source": [
    "# save chart\n",
    "chart.figure.savefig(os.path.join(path, 'visualizations', 'KQ1_histo_order_hod.png'))"
   ]
  },
  {
   "cell_type": "markdown",
   "id": "5ffe0836",
   "metadata": {},
   "source": [
    "<a id=\"sec203\"></a>\n",
    "### 2.03  Bar chart for Key Question 4"
   ]
  },
  {
   "cell_type": "code",
   "execution_count": 10,
   "id": "65221154",
   "metadata": {},
   "outputs": [
    {
     "data": {
      "text/plain": [
       "<Figure size 432x288 with 0 Axes>"
      ]
     },
     "execution_count": 10,
     "metadata": {},
     "output_type": "execute_result"
    },
    {
     "data": {
      "image/png": "[encoded data removed]",
      "text/plain": [
       "<Figure size 432x288 with 1 Axes>"
      ]
     },
     "metadata": {
      "needs_background": "light"
     },
     "output_type": "display_data"
    },
    {
     "data": {
      "text/plain": [
       "<Figure size 432x288 with 0 Axes>"
      ]
     },
     "metadata": {},
     "output_type": "display_data"
    }
   ],
   "source": [
    "# create bar chart for orders_day_of_week\n",
    "chart = df['department'].value_counts().plot.bar\\\n",
    "(color = ['green'], xlabel = 'Department', ylabel = 'Orders (in millions)', title = 'Orders by Department')\n",
    "plt.xticks(rotation= 45, horizontalalignment=\"right\")\n",
    "plt.figure()"
   ]
  },
  {
   "cell_type": "code",
   "execution_count": 11,
   "id": "221c15a2",
   "metadata": {},
   "outputs": [],
   "source": [
    "# save bar chart, answers part of Key Question 4\n",
    "chart.figure.savefig(os.path.join(path, 'visualizations', 'KQ4_orders_dept.png'))"
   ]
  },
  {
   "cell_type": "markdown",
   "id": "f782069c",
   "metadata": {},
   "source": [
    "<a id=\"sec204\"></a>\n",
    "### 2.04  Line chart for key question 2"
   ]
  },
  {
   "cell_type": "code",
   "execution_count": 12,
   "id": "799b906b",
   "metadata": {},
   "outputs": [],
   "source": [
    "# set the seed for the random number generator\n",
    "np.random.seed(4)\n",
    "# create random numbers between 0 and 1 to be compared to 0.7 and the results returned in a boolean list.\n",
    "# Note that the resulting list is the same length as the nuber of rows in the data frame\n",
    "dev = np.random.rand(len(df)) <= 0.7"
   ]
  },
  {
   "cell_type": "code",
   "execution_count": 13,
   "id": "06a30172",
   "metadata": {},
   "outputs": [],
   "source": [
    "# store 70% of the sample in the dataframe df_big\n",
    "df_big = df[dev]\n",
    "# store 30% of the sample in the dataframe df_small\n",
    "df_small = df[~dev]"
   ]
  },
  {
   "cell_type": "code",
   "execution_count": 14,
   "id": "0527a5cc",
   "metadata": {},
   "outputs": [
    {
     "data": {
      "text/plain": [
       "True"
      ]
     },
     "execution_count": 14,
     "metadata": {},
     "output_type": "execute_result"
    }
   ],
   "source": [
    "# Compare number of rows in full dataframe to subset dataframes\n",
    "len(df) == (len(df_big) + len(df_small))"
   ]
  },
  {
   "cell_type": "code",
   "execution_count": 15,
   "id": "f2641704",
   "metadata": {},
   "outputs": [],
   "source": [
    "# create subset dataframe\n",
    "dfss = df_small[['order_hour_of_day','prices']]"
   ]
  },
  {
   "cell_type": "code",
   "execution_count": 16,
   "id": "e5d0973e",
   "metadata": {},
   "outputs": [
    {
     "data": {
      "text/plain": [
       "<Figure size 432x288 with 0 Axes>"
      ]
     },
     "execution_count": 16,
     "metadata": {},
     "output_type": "execute_result"
    },
    {
     "data": {
      "image/png": "[encoded data removed]",
      "text/plain": [
       "<Figure size 432x288 with 1 Axes>"
      ]
     },
     "metadata": {
      "needs_background": "light"
     },
     "output_type": "display_data"
    },
    {
     "data": {
      "text/plain": [
       "<Figure size 432x288 with 0 Axes>"
      ]
     },
     "metadata": {},
     "output_type": "display_data"
    }
   ],
   "source": [
    "chart = sns.lineplot(data = dfss, x = 'order_hour_of_day',y = 'prices')\n",
    "plt.xlabel('Order Hour of Day')\n",
    "plt.ylabel('Prices')\n",
    "plt.title('Prices by Order Hour of Day')\n",
    "# Show plot\n",
    "plt.figure()"
   ]
  },
  {
   "cell_type": "code",
   "execution_count": 17,
   "id": "bb246d49",
   "metadata": {},
   "outputs": [],
   "source": [
    "# save chart - answers Keq Question 2\n",
    "chart.figure.savefig(os.path.join(path, 'visualizations', 'KQ2_line_prices_vs_ohod.png'))"
   ]
  },
  {
   "cell_type": "code",
   "execution_count": 18,
   "id": "d0dcc6df",
   "metadata": {},
   "outputs": [],
   "source": [
    "# create subset dataframe\n",
    "dfss = df_small[['orders_day_of_week','prices']]"
   ]
  },
  {
   "cell_type": "code",
   "execution_count": 19,
   "id": "adecfa52",
   "metadata": {
    "scrolled": false
   },
   "outputs": [
    {
     "data": {
      "text/plain": [
       "<Figure size 432x288 with 0 Axes>"
      ]
     },
     "execution_count": 19,
     "metadata": {},
     "output_type": "execute_result"
    },
    {
     "data": {
      "image/png": "[encoded data removed]",
      "text/plain": [
       "<Figure size 432x288 with 1 Axes>"
      ]
     },
     "metadata": {
      "needs_background": "light"
     },
     "output_type": "display_data"
    },
    {
     "data": {
      "text/plain": [
       "<Figure size 432x288 with 0 Axes>"
      ]
     },
     "metadata": {},
     "output_type": "display_data"
    }
   ],
   "source": [
    "chart = sns.lineplot(data = dfss, x = 'orders_day_of_week',y = 'prices')\n",
    "plt.xticks(rotation= 45, horizontalalignment=\"right\")\n",
    "plt.title('Prices by Orders Day of Week')\n",
    "plt.figure()"
   ]
  },
  {
   "cell_type": "code",
   "execution_count": 20,
   "id": "6f7b649f",
   "metadata": {},
   "outputs": [],
   "source": [
    "# save chart\n",
    "chart.figure.savefig(os.path.join(path, 'visualizations', 'line_prices_dow.png'))"
   ]
  },
  {
   "cell_type": "markdown",
   "id": "eb5ce888",
   "metadata": {},
   "source": [
    "#### The histogram shows that more orders are placed during the late morning to late afternoon hours "
   ]
  },
  {
   "cell_type": "markdown",
   "id": "72afce49",
   "metadata": {},
   "source": [
    "<a id=\"sec205\"></a>\n",
    "### 2.05 Pie chart for key question 5.1"
   ]
  },
  {
   "cell_type": "code",
   "execution_count": 21,
   "id": "69f58c62",
   "metadata": {
    "scrolled": true
   },
   "outputs": [
    {
     "data": {
      "text/plain": [
       "<Figure size 432x288 with 0 Axes>"
      ]
     },
     "execution_count": 21,
     "metadata": {},
     "output_type": "execute_result"
    },
    {
     "data": {
      "image/png": "[encoded data removed]",
      "text/plain": [
       "<Figure size 432x288 with 1 Axes>"
      ]
     },
     "metadata": {},
     "output_type": "display_data"
    },
    {
     "data": {
      "text/plain": [
       "<Figure size 432x288 with 0 Axes>"
      ]
     },
     "metadata": {},
     "output_type": "display_data"
    }
   ],
   "source": [
    "# create bar chart for customer loyalty\n",
    "chart = df['loyalty_flag'].value_counts().plot.pie(autopct='%1.1f%%')\n",
    "plt.xlabel('')\n",
    "plt.ylabel('')\n",
    "plt.title('Customer Loyalty')\n",
    "plt.figure()"
   ]
  },
  {
   "cell_type": "code",
   "execution_count": 22,
   "id": "c881f1d7",
   "metadata": {},
   "outputs": [],
   "source": [
    "# save chart\n",
    "chart.figure.savefig(os.path.join(path, 'visualizations', 'KQ5_pie_loyalty_flag.png'))"
   ]
  },
  {
   "cell_type": "code",
   "execution_count": 23,
   "id": "48adadf8",
   "metadata": {
    "scrolled": true
   },
   "outputs": [
    {
     "data": {
      "text/plain": [
       "<Figure size 432x288 with 0 Axes>"
      ]
     },
     "execution_count": 23,
     "metadata": {},
     "output_type": "execute_result"
    },
    {
     "data": {
      "image/png": "[encoded data removed]",
      "text/plain": [
       "<Figure size 432x288 with 1 Axes>"
      ]
     },
     "metadata": {},
     "output_type": "display_data"
    },
    {
     "data": {
      "text/plain": [
       "<Figure size 432x288 with 0 Axes>"
      ]
     },
     "metadata": {},
     "output_type": "display_data"
    }
   ],
   "source": [
    "# create bar chart for order frequency\n",
    "chart = df['order_frq_flag'].value_counts().plot.pie(autopct='%1.1f%%')\n",
    "plt.xlabel('')\n",
    "plt.ylabel('')\n",
    "plt.title('Customer Return Frequency')\n",
    "plt.figure()"
   ]
  },
  {
   "cell_type": "code",
   "execution_count": 24,
   "id": "19f16b6f",
   "metadata": {},
   "outputs": [],
   "source": [
    "# save chart\n",
    "chart.figure.savefig(os.path.join(path, 'visualizations', 'KQ5_pie_order_frq_flag.png'))"
   ]
  },
  {
   "cell_type": "markdown",
   "id": "c530ea29",
   "metadata": {},
   "source": [
    "<a id=\"sec206\"></a>\n",
    "### 2.06  Pie charts for key question 5.2"
   ]
  },
  {
   "cell_type": "code",
   "execution_count": 25,
   "id": "69c24b0b",
   "metadata": {
    "scrolled": true
   },
   "outputs": [
    {
     "data": {
      "text/html": [
       "<div>\n",
       "<style scoped>\n",
       "    .dataframe tbody tr th:only-of-type {\n",
       "        vertical-align: middle;\n",
       "    }\n",
       "\n",
       "    .dataframe tbody tr th {\n",
       "        vertical-align: top;\n",
       "    }\n",
       "\n",
       "    .dataframe thead th {\n",
       "        text-align: right;\n",
       "    }\n",
       "</style>\n",
       "<table border=\"1\" class=\"dataframe\">\n",
       "  <thead>\n",
       "    <tr style=\"text-align: right;\">\n",
       "      <th>loyalty_flag</th>\n",
       "      <th>Loyal customer</th>\n",
       "      <th>New customer</th>\n",
       "      <th>Regular customer</th>\n",
       "    </tr>\n",
       "    <tr>\n",
       "      <th>price_range</th>\n",
       "      <th></th>\n",
       "      <th></th>\n",
       "      <th></th>\n",
       "    </tr>\n",
       "  </thead>\n",
       "  <tbody>\n",
       "    <tr>\n",
       "      <th>High-range product</th>\n",
       "      <td>119936</td>\n",
       "      <td>65927</td>\n",
       "      <td>212090</td>\n",
       "    </tr>\n",
       "    <tr>\n",
       "      <th>Low-range product</th>\n",
       "      <td>3214690</td>\n",
       "      <td>1501288</td>\n",
       "      <td>4958862</td>\n",
       "    </tr>\n",
       "    <tr>\n",
       "      <th>Mid-range product</th>\n",
       "      <td>6949467</td>\n",
       "      <td>3236480</td>\n",
       "      <td>10705824</td>\n",
       "    </tr>\n",
       "  </tbody>\n",
       "</table>\n",
       "</div>"
      ],
      "text/plain": [
       "loyalty_flag        Loyal customer  New customer  Regular customer\n",
       "price_range                                                       \n",
       "High-range product          119936         65927            212090\n",
       "Low-range product          3214690       1501288           4958862\n",
       "Mid-range product          6949467       3236480          10705824"
      ]
     },
     "execution_count": 25,
     "metadata": {},
     "output_type": "execute_result"
    }
   ],
   "source": [
    "# create cross table showing department by loyalty\n",
    "dfss = pd.crosstab(df['price_range'], df['loyalty_flag'], dropna = False)\n",
    "dfss"
   ]
  },
  {
   "cell_type": "code",
   "execution_count": 26,
   "id": "2343ca8d",
   "metadata": {
    "scrolled": false
   },
   "outputs": [
    {
     "data": {
      "text/plain": [
       "<Figure size 432x288 with 0 Axes>"
      ]
     },
     "execution_count": 26,
     "metadata": {},
     "output_type": "execute_result"
    },
    {
     "data": {
      "image/png": "[encoded data removed]",
      "text/plain": [
       "<Figure size 432x288 with 1 Axes>"
      ]
     },
     "metadata": {},
     "output_type": "display_data"
    },
    {
     "data": {
      "text/plain": [
       "<Figure size 432x288 with 0 Axes>"
      ]
     },
     "metadata": {},
     "output_type": "display_data"
    }
   ],
   "source": [
    "# create pie chart for loyal customer spending\n",
    "chart = dfss['Loyal customer'].plot.pie(autopct='%1.1f%%')\n",
    "plt.xlabel('')\n",
    "plt.ylabel('')\n",
    "plt.title('Loyal Customer Spending')\n",
    "plt.figure()"
   ]
  },
  {
   "cell_type": "code",
   "execution_count": 27,
   "id": "8211a72a",
   "metadata": {},
   "outputs": [],
   "source": [
    "# save chart\n",
    "chart.figure.savefig(os.path.join(path, 'visualizations', 'KQ5_pie_LC_spending.png'))"
   ]
  },
  {
   "cell_type": "code",
   "execution_count": 28,
   "id": "17d5a13c",
   "metadata": {
    "scrolled": false
   },
   "outputs": [
    {
     "data": {
      "text/plain": [
       "<Figure size 432x288 with 0 Axes>"
      ]
     },
     "execution_count": 28,
     "metadata": {},
     "output_type": "execute_result"
    },
    {
     "data": {
      "image/png": "[encoded data removed]",
      "text/plain": [
       "<Figure size 432x288 with 1 Axes>"
      ]
     },
     "metadata": {},
     "output_type": "display_data"
    },
    {
     "data": {
      "text/plain": [
       "<Figure size 432x288 with 0 Axes>"
      ]
     },
     "metadata": {},
     "output_type": "display_data"
    }
   ],
   "source": [
    "# create pie chart for regular customer spending\n",
    "chart = dfss['Regular customer'].plot.pie(autopct='%1.1f%%')\n",
    "plt.xlabel('')\n",
    "plt.ylabel('')\n",
    "plt.title('Regular Customer Spending')\n",
    "plt.figure()"
   ]
  },
  {
   "cell_type": "code",
   "execution_count": 29,
   "id": "0851a047",
   "metadata": {},
   "outputs": [],
   "source": [
    "# save chart\n",
    "chart.figure.savefig(os.path.join(path, 'visualizations', 'KQ5_pie_RC_spending.png'))"
   ]
  },
  {
   "cell_type": "code",
   "execution_count": 30,
   "id": "0b4ffc81",
   "metadata": {
    "scrolled": true
   },
   "outputs": [
    {
     "data": {
      "text/plain": [
       "<Figure size 432x288 with 0 Axes>"
      ]
     },
     "execution_count": 30,
     "metadata": {},
     "output_type": "execute_result"
    },
    {
     "data": {
      "image/png": "[encoded data removed]",
      "text/plain": [
       "<Figure size 432x288 with 1 Axes>"
      ]
     },
     "metadata": {},
     "output_type": "display_data"
    },
    {
     "data": {
      "text/plain": [
       "<Figure size 432x288 with 0 Axes>"
      ]
     },
     "metadata": {},
     "output_type": "display_data"
    }
   ],
   "source": [
    "# create pie chart for new customer spending\n",
    "chart = dfss['New customer'].plot.pie(autopct='%1.1f%%')\n",
    "plt.xlabel('')\n",
    "plt.ylabel('')\n",
    "plt.title('New Customer Spending')\n",
    "plt.figure()"
   ]
  },
  {
   "cell_type": "code",
   "execution_count": 31,
   "id": "8540d833",
   "metadata": {},
   "outputs": [],
   "source": [
    "# save chart\n",
    "chart.figure.savefig(os.path.join(path, 'visualizations', 'KQ5_pie_NC_spending.png'))"
   ]
  },
  {
   "cell_type": "markdown",
   "id": "832b3aba",
   "metadata": {},
   "source": [
    "<a id=\"sec207\"></a>\n",
    "### 2.07  Bar chart for key question 5.3"
   ]
  },
  {
   "cell_type": "markdown",
   "id": "79f1ea3c",
   "metadata": {},
   "source": [
    "### Ordering habits vs region"
   ]
  },
  {
   "cell_type": "code",
   "execution_count": 32,
   "id": "a69d27d3",
   "metadata": {},
   "outputs": [
    {
     "data": {
      "text/html": [
       "<div>\n",
       "<style scoped>\n",
       "    .dataframe tbody tr th:only-of-type {\n",
       "        vertical-align: middle;\n",
       "    }\n",
       "\n",
       "    .dataframe tbody tr th {\n",
       "        vertical-align: top;\n",
       "    }\n",
       "\n",
       "    .dataframe thead th {\n",
       "        text-align: right;\n",
       "    }\n",
       "</style>\n",
       "<table border=\"1\" class=\"dataframe\">\n",
       "  <thead>\n",
       "    <tr style=\"text-align: right;\">\n",
       "      <th>loyalty_flag</th>\n",
       "      <th>Loyal customer</th>\n",
       "      <th>New customer</th>\n",
       "      <th>Regular customer</th>\n",
       "    </tr>\n",
       "    <tr>\n",
       "      <th>region</th>\n",
       "      <th></th>\n",
       "      <th></th>\n",
       "      <th></th>\n",
       "    </tr>\n",
       "  </thead>\n",
       "  <tbody>\n",
       "    <tr>\n",
       "      <th>Midwest</th>\n",
       "      <td>2373774</td>\n",
       "      <td>1136761</td>\n",
       "      <td>3750978</td>\n",
       "    </tr>\n",
       "    <tr>\n",
       "      <th>Northeast</th>\n",
       "      <td>1841785</td>\n",
       "      <td>842156</td>\n",
       "      <td>2780744</td>\n",
       "    </tr>\n",
       "    <tr>\n",
       "      <th>South</th>\n",
       "      <td>3405844</td>\n",
       "      <td>1593664</td>\n",
       "      <td>5311631</td>\n",
       "    </tr>\n",
       "    <tr>\n",
       "      <th>West</th>\n",
       "      <td>2662690</td>\n",
       "      <td>1231114</td>\n",
       "      <td>4033423</td>\n",
       "    </tr>\n",
       "  </tbody>\n",
       "</table>\n",
       "</div>"
      ],
      "text/plain": [
       "loyalty_flag  Loyal customer  New customer  Regular customer\n",
       "region                                                      \n",
       "Midwest              2373774       1136761           3750978\n",
       "Northeast            1841785        842156           2780744\n",
       "South                3405844       1593664           5311631\n",
       "West                 2662690       1231114           4033423"
      ]
     },
     "execution_count": 32,
     "metadata": {},
     "output_type": "execute_result"
    }
   ],
   "source": [
    "# create cross table showing loyalty by region\n",
    "dfss = pd.crosstab(df['region'], df['loyalty_flag'], dropna = False)\n",
    "dfss"
   ]
  },
  {
   "cell_type": "code",
   "execution_count": 33,
   "id": "687df8c2",
   "metadata": {
    "scrolled": true
   },
   "outputs": [
    {
     "data": {
      "text/plain": [
       "<Figure size 432x288 with 0 Axes>"
      ]
     },
     "execution_count": 33,
     "metadata": {},
     "output_type": "execute_result"
    },
    {
     "data": {
      "image/png": "[encoded data removed]",
      "text/plain": [
       "<Figure size 432x288 with 1 Axes>"
      ]
     },
     "metadata": {
      "needs_background": "light"
     },
     "output_type": "display_data"
    },
    {
     "data": {
      "text/plain": [
       "<Figure size 432x288 with 0 Axes>"
      ]
     },
     "metadata": {},
     "output_type": "display_data"
    }
   ],
   "source": [
    "# put the results into a bar chart\n",
    "chart = dfss.plot.bar(stacked=False,\n",
    "                        title = 'Customer Loyalty by Region',\n",
    "                        color = ['green','red', 'blue'], xlabel='Region', ylabel='Customer orders (in millions)')\n",
    "plt.xticks(rotation= 45, horizontalalignment=\"right\")\n",
    "plt.figure()"
   ]
  },
  {
   "cell_type": "code",
   "execution_count": 34,
   "id": "f05cb8ac",
   "metadata": {},
   "outputs": [],
   "source": [
    "# save chart\n",
    "chart.figure.savefig(os.path.join(path, 'visualizations', 'KQ5_loyalty_by_reg.png'))"
   ]
  },
  {
   "cell_type": "code",
   "execution_count": 35,
   "id": "cb7bc750",
   "metadata": {
    "scrolled": false
   },
   "outputs": [
    {
     "data": {
      "text/plain": [
       "<Figure size 432x288 with 0 Axes>"
      ]
     },
     "execution_count": 35,
     "metadata": {},
     "output_type": "execute_result"
    },
    {
     "data": {
      "image/png": "[encoded data removed]",
      "text/plain": [
       "<Figure size 432x288 with 1 Axes>"
      ]
     },
     "metadata": {
      "needs_background": "light"
     },
     "output_type": "display_data"
    },
    {
     "data": {
      "text/plain": [
       "<Figure size 432x288 with 0 Axes>"
      ]
     },
     "metadata": {},
     "output_type": "display_data"
    }
   ],
   "source": [
    "# put the results into a bar chart\n",
    "chart = dfss.plot.bar(stacked=True,\n",
    "                        title = 'Customer Loyalty by Region',\n",
    "                        color = ['green','red', 'blue'], xlabel='Region', ylabel='Customer orders')\n",
    "plt.xticks(rotation= 45, horizontalalignment=\"right\")\n",
    "plt.figure()"
   ]
  },
  {
   "cell_type": "code",
   "execution_count": 36,
   "id": "855241be",
   "metadata": {},
   "outputs": [],
   "source": [
    "# save chart\n",
    "chart.figure.savefig(os.path.join(path, 'visualizations', 'KQ5_loyalty_by_reg_stacked.png'))"
   ]
  },
  {
   "cell_type": "markdown",
   "id": "95ce2364",
   "metadata": {},
   "source": [
    "<a id=\"sec208\"></a>\n",
    "### 2.08 Bar charts for key question 5.4"
   ]
  },
  {
   "cell_type": "code",
   "execution_count": 37,
   "id": "39f21e74",
   "metadata": {
    "scrolled": true
   },
   "outputs": [
    {
     "data": {
      "text/html": [
       "<div>\n",
       "<style scoped>\n",
       "    .dataframe tbody tr th:only-of-type {\n",
       "        vertical-align: middle;\n",
       "    }\n",
       "\n",
       "    .dataframe tbody tr th {\n",
       "        vertical-align: top;\n",
       "    }\n",
       "\n",
       "    .dataframe thead th {\n",
       "        text-align: right;\n",
       "    }\n",
       "</style>\n",
       "<table border=\"1\" class=\"dataframe\">\n",
       "  <thead>\n",
       "    <tr style=\"text-align: right;\">\n",
       "      <th>price_range</th>\n",
       "      <th>High-range product</th>\n",
       "      <th>Low-range product</th>\n",
       "      <th>Mid-range product</th>\n",
       "    </tr>\n",
       "    <tr>\n",
       "      <th>age_flag</th>\n",
       "      <th></th>\n",
       "      <th></th>\n",
       "      <th></th>\n",
       "    </tr>\n",
       "  </thead>\n",
       "  <tbody>\n",
       "    <tr>\n",
       "      <th>middle</th>\n",
       "      <td>125144</td>\n",
       "      <td>3038382</td>\n",
       "      <td>6561424</td>\n",
       "    </tr>\n",
       "    <tr>\n",
       "      <th>senior</th>\n",
       "      <td>136932</td>\n",
       "      <td>3302044</td>\n",
       "      <td>7135528</td>\n",
       "    </tr>\n",
       "    <tr>\n",
       "      <th>young</th>\n",
       "      <td>135877</td>\n",
       "      <td>3334414</td>\n",
       "      <td>7194819</td>\n",
       "    </tr>\n",
       "  </tbody>\n",
       "</table>\n",
       "</div>"
      ],
      "text/plain": [
       "price_range  High-range product  Low-range product  Mid-range product\n",
       "age_flag                                                             \n",
       "middle                   125144            3038382            6561424\n",
       "senior                   136932            3302044            7135528\n",
       "young                    135877            3334414            7194819"
      ]
     },
     "execution_count": 37,
     "metadata": {},
     "output_type": "execute_result"
    }
   ],
   "source": [
    "# create cross table showing price range by age groups\n",
    "dfss = pd.crosstab(df['age_flag'], df['price_range'], dropna = False)\n",
    "dfss\n"
   ]
  },
  {
   "cell_type": "code",
   "execution_count": 38,
   "id": "08fae83a",
   "metadata": {
    "scrolled": false
   },
   "outputs": [
    {
     "data": {
      "text/plain": [
       "<Figure size 432x288 with 0 Axes>"
      ]
     },
     "execution_count": 38,
     "metadata": {},
     "output_type": "execute_result"
    },
    {
     "data": {
      "image/png": "[encoded data removed]",
      "text/plain": [
       "<Figure size 432x288 with 1 Axes>"
      ]
     },
     "metadata": {
      "needs_background": "light"
     },
     "output_type": "display_data"
    },
    {
     "data": {
      "text/plain": [
       "<Figure size 432x288 with 0 Axes>"
      ]
     },
     "metadata": {},
     "output_type": "display_data"
    }
   ],
   "source": [
    "# put the results into a bar chart\n",
    "chart = dfss.plot.bar(stacked=False,\n",
    "                        title = 'Price range by Age Groups',\n",
    "                        color = ['green','red', 'blue'], xlabel='Age Groups', ylabel='Item orders')\n",
    "plt.xticks(rotation= 45, horizontalalignment=\"right\")\n",
    "plt.figure()"
   ]
  },
  {
   "cell_type": "code",
   "execution_count": 39,
   "id": "9b7cbdb1",
   "metadata": {},
   "outputs": [],
   "source": [
    "# save chart\n",
    "chart.figure.savefig(os.path.join(path, 'visualizations', 'KQ5_age_prange.png'))"
   ]
  },
  {
   "cell_type": "code",
   "execution_count": 40,
   "id": "69261231",
   "metadata": {
    "scrolled": true
   },
   "outputs": [
    {
     "data": {
      "text/html": [
       "<div>\n",
       "<style scoped>\n",
       "    .dataframe tbody tr th:only-of-type {\n",
       "        vertical-align: middle;\n",
       "    }\n",
       "\n",
       "    .dataframe tbody tr th {\n",
       "        vertical-align: top;\n",
       "    }\n",
       "\n",
       "    .dataframe thead th {\n",
       "        text-align: right;\n",
       "    }\n",
       "</style>\n",
       "<table border=\"1\" class=\"dataframe\">\n",
       "  <thead>\n",
       "    <tr style=\"text-align: right;\">\n",
       "      <th>price_range</th>\n",
       "      <th>High-range product</th>\n",
       "      <th>Low-range product</th>\n",
       "      <th>Mid-range product</th>\n",
       "    </tr>\n",
       "    <tr>\n",
       "      <th>fam_status</th>\n",
       "      <th></th>\n",
       "      <th></th>\n",
       "      <th></th>\n",
       "    </tr>\n",
       "  </thead>\n",
       "  <tbody>\n",
       "    <tr>\n",
       "      <th>divorced/widowed</th>\n",
       "      <td>34134</td>\n",
       "      <td>826382</td>\n",
       "      <td>1784755</td>\n",
       "    </tr>\n",
       "    <tr>\n",
       "      <th>living with parents and siblings</th>\n",
       "      <td>18997</td>\n",
       "      <td>461807</td>\n",
       "      <td>1000368</td>\n",
       "    </tr>\n",
       "    <tr>\n",
       "      <th>married</th>\n",
       "      <td>281501</td>\n",
       "      <td>6793795</td>\n",
       "      <td>14668415</td>\n",
       "    </tr>\n",
       "    <tr>\n",
       "      <th>single</th>\n",
       "      <td>63321</td>\n",
       "      <td>1592856</td>\n",
       "      <td>3438233</td>\n",
       "    </tr>\n",
       "  </tbody>\n",
       "</table>\n",
       "</div>"
      ],
      "text/plain": [
       "price_range                       High-range product  Low-range product  \\\n",
       "fam_status                                                                \n",
       "divorced/widowed                               34134             826382   \n",
       "living with parents and siblings               18997             461807   \n",
       "married                                       281501            6793795   \n",
       "single                                         63321            1592856   \n",
       "\n",
       "price_range                       Mid-range product  \n",
       "fam_status                                           \n",
       "divorced/widowed                            1784755  \n",
       "living with parents and siblings            1000368  \n",
       "married                                    14668415  \n",
       "single                                      3438233  "
      ]
     },
     "execution_count": 40,
     "metadata": {},
     "output_type": "execute_result"
    }
   ],
   "source": [
    "# create cross table showing price range by family status\n",
    "dfss = pd.crosstab(df['fam_status'], df['price_range'], dropna = False)\n",
    "dfss\n"
   ]
  },
  {
   "cell_type": "code",
   "execution_count": 41,
   "id": "9772ad6b",
   "metadata": {
    "scrolled": false
   },
   "outputs": [
    {
     "data": {
      "text/plain": [
       "<Figure size 432x288 with 0 Axes>"
      ]
     },
     "execution_count": 41,
     "metadata": {},
     "output_type": "execute_result"
    },
    {
     "data": {
      "image/png": "[encoded data removed]",
      "text/plain": [
       "<Figure size 432x288 with 1 Axes>"
      ]
     },
     "metadata": {
      "needs_background": "light"
     },
     "output_type": "display_data"
    },
    {
     "data": {
      "text/plain": [
       "<Figure size 432x288 with 0 Axes>"
      ]
     },
     "metadata": {},
     "output_type": "display_data"
    }
   ],
   "source": [
    "# put the results into a bar chart\n",
    "chart = dfss.plot.bar(stacked=False,\n",
    "                        title = 'Price range by Family status',\n",
    "                        color = ['green','red', 'blue'], xlabel='Family Status', ylabel='Item orders')\n",
    "plt.xticks(rotation= 45, horizontalalignment=\"right\")\n",
    "plt.figure()"
   ]
  },
  {
   "cell_type": "code",
   "execution_count": 42,
   "id": "5a5b6524",
   "metadata": {},
   "outputs": [],
   "source": [
    "# save chart\n",
    "chart.figure.savefig(os.path.join(path, 'visualizations', 'KQ5_fam_prange.png'))"
   ]
  },
  {
   "cell_type": "code",
   "execution_count": 43,
   "id": "b528e115",
   "metadata": {},
   "outputs": [],
   "source": [
    "# create income_flag column\n",
    "df.loc[ df['income'] <= 40000, 'income_flag'] = \"low\"\n",
    "df.loc[ df['income'] > 40000, 'income_flag'] = \"high\""
   ]
  },
  {
   "cell_type": "code",
   "execution_count": 44,
   "id": "5ba826fa",
   "metadata": {
    "scrolled": false
   },
   "outputs": [
    {
     "data": {
      "text/html": [
       "<div>\n",
       "<style scoped>\n",
       "    .dataframe tbody tr th:only-of-type {\n",
       "        vertical-align: middle;\n",
       "    }\n",
       "\n",
       "    .dataframe tbody tr th {\n",
       "        vertical-align: top;\n",
       "    }\n",
       "\n",
       "    .dataframe thead th {\n",
       "        text-align: right;\n",
       "    }\n",
       "</style>\n",
       "<table border=\"1\" class=\"dataframe\">\n",
       "  <thead>\n",
       "    <tr style=\"text-align: right;\">\n",
       "      <th>price_range</th>\n",
       "      <th>High-range product</th>\n",
       "      <th>Low-range product</th>\n",
       "      <th>Mid-range product</th>\n",
       "    </tr>\n",
       "    <tr>\n",
       "      <th>income_flag</th>\n",
       "      <th></th>\n",
       "      <th></th>\n",
       "      <th></th>\n",
       "    </tr>\n",
       "  </thead>\n",
       "  <tbody>\n",
       "    <tr>\n",
       "      <th>high</th>\n",
       "      <td>391903</td>\n",
       "      <td>8977429</td>\n",
       "      <td>19983207</td>\n",
       "    </tr>\n",
       "    <tr>\n",
       "      <th>low</th>\n",
       "      <td>6050</td>\n",
       "      <td>697411</td>\n",
       "      <td>908564</td>\n",
       "    </tr>\n",
       "  </tbody>\n",
       "</table>\n",
       "</div>"
      ],
      "text/plain": [
       "price_range  High-range product  Low-range product  Mid-range product\n",
       "income_flag                                                          \n",
       "high                     391903            8977429           19983207\n",
       "low                        6050             697411             908564"
      ]
     },
     "execution_count": 44,
     "metadata": {},
     "output_type": "execute_result"
    }
   ],
   "source": [
    "# create cross table showing price range by income\n",
    "dfss = pd.crosstab(df['income_flag'], df['price_range'], dropna = False)\n",
    "dfss\n"
   ]
  },
  {
   "cell_type": "code",
   "execution_count": 45,
   "id": "e1161e05",
   "metadata": {
    "scrolled": false
   },
   "outputs": [
    {
     "data": {
      "text/plain": [
       "<Figure size 432x288 with 0 Axes>"
      ]
     },
     "execution_count": 45,
     "metadata": {},
     "output_type": "execute_result"
    },
    {
     "data": {
      "image/png": "[encoded data removed]",
      "text/plain": [
       "<Figure size 432x288 with 1 Axes>"
      ]
     },
     "metadata": {
      "needs_background": "light"
     },
     "output_type": "display_data"
    },
    {
     "data": {
      "text/plain": [
       "<Figure size 432x288 with 0 Axes>"
      ]
     },
     "metadata": {},
     "output_type": "display_data"
    }
   ],
   "source": [
    "# put the results into a bar chart\n",
    "chart = dfss.plot.bar(stacked=False,\n",
    "                        title = 'Price range by Income',\n",
    "                        color = ['green', 'red', 'blue'], xlabel='Income', ylabel='Item orders')\n",
    "plt.xticks(rotation= 45, horizontalalignment=\"right\")\n",
    "plt.figure()"
   ]
  },
  {
   "cell_type": "code",
   "execution_count": 46,
   "id": "e7064a53",
   "metadata": {},
   "outputs": [],
   "source": [
    "# save chart\n",
    "chart.figure.savefig(os.path.join(path, 'visualizations', 'KQ5_income_prange.png'))"
   ]
  },
  {
   "cell_type": "markdown",
   "id": "0b08f621",
   "metadata": {},
   "source": [
    "#### Low incomes are found in all age groups, but it is only those over 40 who enjoy the higher levels of income"
   ]
  },
  {
   "cell_type": "code",
   "execution_count": null,
   "id": "f5c28205",
   "metadata": {},
   "outputs": [],
   "source": []
  }
 ],
 "metadata": {
  "kernelspec": {
   "display_name": "Python 3 (ipykernel)",
   "language": "python",
   "name": "python3"
  },
  "language_info": {
   "codemirror_mode": {
    "name": "ipython",
    "version": 3
   },
   "file_extension": ".py",
   "mimetype": "text/x-python",
   "name": "python",
   "nbconvert_exporter": "python",
   "pygments_lexer": "ipython3",
   "version": "3.9.7"
  }
 },
 "nbformat": 4,
 "nbformat_minor": 5
}
